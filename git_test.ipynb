{
 "cells": [
  {
   "cell_type": "markdown",
   "id": "981c5199",
   "metadata": {},
   "source": [
    "깃허브 리포지토리(Repositories) 사용, 관리방법\n",
    "======\n",
    "\n",
    "### 1. 로컬 리포지토리(Local Repositories)\n",
    "\n",
    "      - 사용자 컴퓨터에 저장된 로컬 버전의 프로젝트 저장소 \n",
    "\n",
    "### 2. 리모트 리포지토리(remote Repositories)\n",
    "\n",
    "      - 로컬이 아닌 외부 서버의 프로젝트 저장소\n",
    "      - 프로젝트 코드를 공유\n",
    "      - 다른 사람의 코드 확인\n",
    "      - 로컬 버전의 프로젝트와 병합\n",
    "      - 변경 사항 적용기능 존재\n",
    "      \n",
    "### 3. git init\n",
    "       \n",
    "      - 새로운 프로젝트 시작때 사용 \n",
    "      - 해당 프로젝트 폴더 내에 .git 폴더를 생성하고 이제 Git은 현재 repository에 대한 모든 변경사항들을 추적 및 관리하게 됩니다.\n",
    "      \n",
    "### 4. \n",
    "    \n",
    "    \n",
    "      \n"
   ]
  }
 ],
 "metadata": {
  "kernelspec": {
   "display_name": "Python 3",
   "language": "python",
   "name": "python3"
  },
  "language_info": {
   "codemirror_mode": {
    "name": "ipython",
    "version": 3
   },
   "file_extension": ".py",
   "mimetype": "text/x-python",
   "name": "python",
   "nbconvert_exporter": "python",
   "pygments_lexer": "ipython3",
   "version": "3.7.11"
  }
 },
 "nbformat": 4,
 "nbformat_minor": 5
}
