{
 "cells": [
  {
   "cell_type": "markdown",
   "id": "35663952-9d22-425f-9970-d746bc50ac52",
   "metadata": {},
   "source": [
    "마크다운 문법 정리\n",
    "========"
   ]
  },
  {
   "cell_type": "markdown",
   "id": "cc2754fc-38d0-4766-8b97-9247b37fc340",
   "metadata": {},
   "source": [
    "***\n",
    "1.헤더(제목)\n",
    "-----\n",
    "\n",
    "\n",
    "```\n",
    "# 제목\n",
    "## 제목\n",
    "### 제목\n",
    "#### 제목\n",
    "##### 제목\n",
    "##### 제목\n",
    "###### 제목\n",
    "```\n",
    "\n",
    "# 제목\n",
    "## 제목\n",
    "### 제목\n",
    "#### 제목\n",
    "##### 제목\n",
    "##### 제목\n",
    "###### 제목"
   ]
  },
  {
   "cell_type": "markdown",
   "id": "ed0ffef6-c7c7-4aa3-bb81-1b84b77dcdeb",
   "metadata": {},
   "source": [
    "***\n",
    "2.글자 강조\n",
    "------\n",
    "\n",
    "```\n",
    "**굵게표시**\n",
    " _이탤릭_\n",
    " ~취소선~\n",
    "```\n",
    "\n",
    "**굵게표시**\n",
    " _이탤릭_\n",
    " ~취소선~\n",
    " \n",
    "    "
   ]
  },
  {
   "cell_type": "markdown",
   "id": "ae934a70-ee84-4d94-a47c-9282805ae274",
   "metadata": {},
   "source": [
    "***\n",
    "3.코드 삽입\n",
    "-----\n",
    "\n",
    "\n",
    "코드 맨앞과 끝에 `coffee = np.array([202,177,121,148,89,121,137,158])` 백퀴터 넣기\n",
    "블록으로 삽입시 백퀴터 3번 입력\n",
    "\n",
    "``` \n",
    "ax.scatter(old_model[\"horsepower(출력)\"],old_model[\"acceleration(가속능력)\"],\n",
    "        marker='*', color='red', s=50)\n",
    "ax.scatter(new_model[\"horsepower(출력)\"],new_model[\"acceleration(가속능력)\"],\n",
    "        marker='.', color='blue',  s=25)\n",
    "```"
   ]
  },
  {
   "cell_type": "markdown",
   "id": "799221a5-8166-4cf8-b4e6-bed54869859b",
   "metadata": {},
   "source": [
    "***\n",
    "4.인용문 입력\n",
    "------\n",
    "\n",
    "입력할 문장 앞에 > 를 입력 중첩으로 표시할 때는, >>, >>> 을 사용\n",
    "\n",
    "```\n",
    "> 안녕하세요\n",
    ">> 날씨가 좋네요\n",
    ">>> 밥은 드셨나요\n",
    ">\n",
    "> 한 칸 뛰기\n",
    "```\n",
    "\n",
    "\n",
    "> 안녕하세요\n",
    ">> 날씨가 좋네요\n",
    ">>> 밥은 드셨나요\n",
    ">\n",
    "> 한 칸 뛰기"
   ]
  },
  {
   "cell_type": "markdown",
   "id": "300ba50d-1cf6-477e-ad23-67e2bef559e7",
   "metadata": {},
   "source": [
    "***\n",
    "5.목록(List) 입력 \n",
    "------\n",
    "\n",
    "1. 순서가 있는 리스트\n",
    "\n",
    "- 순서가 있는 리스트는 항목 앞에 1., 2., … 또는 1), 2), … 를 입력합니다.\n",
    "\n",
    "```\n",
    "   1. 첫 번쨰 \n",
    "   2. 두 번쨰\n",
    "       1) 하위 리스트\n",
    "       2) 하위 리스트\n",
    "```\n",
    "\n",
    "\n",
    "   1. 첫 번쨰 \n",
    "   2. 두 번쨰\n",
    "       1) 하위 리스트\n",
    "       2) 하위 리스트\n",
    "\n",
    "***\n",
    "2. 순서가 없는 리스트\n",
    "\n",
    "- 순서가 없는 리스트는 항목 앞에 *, -, + 를 입력합니다.\n",
    "```\n",
    "   * 곱하기 기호\n",
    "   - 뺴기 기호\n",
    "   + 더하기 기호\n",
    "    \n",
    "```\n",
    "\n",
    "   * 곱하기 기호\n",
    "   - 뺴기 기호\n",
    "   + 더하기 기호\n",
    "\n",
    "***\n",
    "3. 리스트 안의 하위 리스트는 여백(space bar) 세 칸 혹은 Tap 으로 구분\n",
    "\n",
    "- [ ] 입력으로 리스트를 체크박스 형태로 표시할 수 있습니다. ([]앞뒤로 space(여백)를 꼭 입력해주세요.)\n",
    "```\n",
    " []가나다\n",
    " []마바사\n",
    " []아자차\n",
    "``` \n",
    "\n",
    " []가나다\n",
    " []마바사\n",
    " []아자차\n",
    " "
   ]
  },
  {
   "cell_type": "code",
   "execution_count": null,
   "id": "bef64d8a-7f0c-459c-b6a3-799d65d30247",
   "metadata": {},
   "outputs": [],
   "source": [
    "***\n",
    "6.이미지 삽입 \n",
    "-----\n",
    "\n",
    "이미지를 삽입하려면, ![이미지 설명](이미지 소스 URL \"이미지 설명\") 의 형식으로 입력\n",
    "\n",
    "\n"
   ]
  },
  {
   "cell_type": "markdown",
   "id": "b565e42f-d4d4-4890-b427-5871360ca309",
   "metadata": {},
   "source": [
    "***\n",
    "7.링크 삽입 \n",
    "-----\n",
    "\n",
    "\n",
    "- 마크다운 공부 출처\n",
    "\n",
    "출처:https://lynmp.com/ko/article/title/how-to-use-markdown-oz811c9dc5pz\n",
    "\n",
    "- 텍스트에 링트 삽입\n",
    "\n",
    "인공지능 개발자가 되고싶은[minseochoi](https://github.com/minseochoi-AI)의 깃허브 링크\n",
    "        \n",
    "``` \n",
    "----\n",
    "\n",
    "- 마크다운 공부 출처\n",
    "\n",
    "출처:https://lynmp.com/ko/article/title/how-to-use-markdown-oz811c9dc5pz\n",
    "\n",
    "- 텍스트에 링트 삽입\n",
    "\n",
    "인공지능 개발자가 되고싶은[minseochoi](https://github.com/minseochoi-AI)의 깃허브 링크\n"
   ]
  },
  {
   "cell_type": "markdown",
   "id": "534746e8-f550-4553-a972-feefedee58f6",
   "metadata": {},
   "source": [
    "***\n",
    "8.수평선\n",
    "----\n",
    "\n",
    "***, ---, ___로 표시\n",
    "\n",
    "***\n",
    "---\n",
    "___"
   ]
  },
  {
   "cell_type": "markdown",
   "id": "9c02a749-b8e5-4b0d-b5da-ffe0da7c690a",
   "metadata": {},
   "source": []
  }
 ],
 "metadata": {
  "kernelspec": {
   "display_name": "Python 3",
   "language": "python",
   "name": "python3"
  },
  "language_info": {
   "codemirror_mode": {
    "name": "ipython",
    "version": 3
   },
   "file_extension": ".py",
   "mimetype": "text/x-python",
   "name": "python",
   "nbconvert_exporter": "python",
   "pygments_lexer": "ipython3",
   "version": "3.8.8"
  }
 },
 "nbformat": 4,
 "nbformat_minor": 5
}
